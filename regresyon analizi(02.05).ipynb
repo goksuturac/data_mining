{
 "cells": [
  {
   "cell_type": "code",
   "execution_count": 4,
   "id": "d57b259e",
   "metadata": {},
   "outputs": [],
   "source": [
    "import numpy as np\n",
    "import pandas as pd\n",
    "import matplotlib.pyplot as plt\n",
    "from sklearn.linear_model import LinearRegression\n",
    "from sklearn.metrics import mean_absolute_error, r2_score "
   ]
  },
  {
   "cell_type": "code",
   "execution_count": null,
   "id": "16dfa072",
   "metadata": {},
   "outputs": [],
   "source": [
    "problem: satışlar reklammlardan etkileniyor mu"
   ]
  },
  {
   "cell_type": "code",
   "execution_count": 6,
   "id": "732738c7",
   "metadata": {},
   "outputs": [],
   "source": [
    "satislar= np.array([22,21,23,26,30,31,32])\n",
    "reklam_giderler= np.array([7,11,15,22,26,28,31])"
   ]
  },
  {
   "cell_type": "code",
   "execution_count": 11,
   "id": "c50cb325",
   "metadata": {},
   "outputs": [
    {
     "data": {
      "text/html": [
       "<div>\n",
       "<style scoped>\n",
       "    .dataframe tbody tr th:only-of-type {\n",
       "        vertical-align: middle;\n",
       "    }\n",
       "\n",
       "    .dataframe tbody tr th {\n",
       "        vertical-align: top;\n",
       "    }\n",
       "\n",
       "    .dataframe thead th {\n",
       "        text-align: right;\n",
       "    }\n",
       "</style>\n",
       "<table border=\"1\" class=\"dataframe\">\n",
       "  <thead>\n",
       "    <tr style=\"text-align: right;\">\n",
       "      <th></th>\n",
       "      <th>satislar</th>\n",
       "      <th>reklam_giderler</th>\n",
       "    </tr>\n",
       "  </thead>\n",
       "  <tbody>\n",
       "    <tr>\n",
       "      <th>0</th>\n",
       "      <td>22</td>\n",
       "      <td>7</td>\n",
       "    </tr>\n",
       "    <tr>\n",
       "      <th>1</th>\n",
       "      <td>21</td>\n",
       "      <td>11</td>\n",
       "    </tr>\n",
       "    <tr>\n",
       "      <th>2</th>\n",
       "      <td>23</td>\n",
       "      <td>15</td>\n",
       "    </tr>\n",
       "    <tr>\n",
       "      <th>3</th>\n",
       "      <td>26</td>\n",
       "      <td>22</td>\n",
       "    </tr>\n",
       "    <tr>\n",
       "      <th>4</th>\n",
       "      <td>30</td>\n",
       "      <td>26</td>\n",
       "    </tr>\n",
       "  </tbody>\n",
       "</table>\n",
       "</div>"
      ],
      "text/plain": [
       "   satislar  reklam_giderler\n",
       "0        22                7\n",
       "1        21               11\n",
       "2        23               15\n",
       "3        26               22\n",
       "4        30               26"
      ]
     },
     "execution_count": 11,
     "metadata": {},
     "output_type": "execute_result"
    }
   ],
   "source": [
    "df= pd.DataFrame({'satislar':satislar,'reklam_giderler':reklam_giderler})\n",
    "df.head()"
   ]
  },
  {
   "cell_type": "code",
   "execution_count": 17,
   "id": "20e64fc5",
   "metadata": {},
   "outputs": [
    {
     "data": {
      "text/html": [
       "<div>\n",
       "<style scoped>\n",
       "    .dataframe tbody tr th:only-of-type {\n",
       "        vertical-align: middle;\n",
       "    }\n",
       "\n",
       "    .dataframe tbody tr th {\n",
       "        vertical-align: top;\n",
       "    }\n",
       "\n",
       "    .dataframe thead th {\n",
       "        text-align: right;\n",
       "    }\n",
       "</style>\n",
       "<table border=\"1\" class=\"dataframe\">\n",
       "  <thead>\n",
       "    <tr style=\"text-align: right;\">\n",
       "      <th></th>\n",
       "      <th>satislar</th>\n",
       "      <th>reklam_giderler</th>\n",
       "    </tr>\n",
       "  </thead>\n",
       "  <tbody>\n",
       "    <tr>\n",
       "      <th>2000</th>\n",
       "      <td>22</td>\n",
       "      <td>7</td>\n",
       "    </tr>\n",
       "    <tr>\n",
       "      <th>2001</th>\n",
       "      <td>21</td>\n",
       "      <td>11</td>\n",
       "    </tr>\n",
       "    <tr>\n",
       "      <th>2002</th>\n",
       "      <td>23</td>\n",
       "      <td>15</td>\n",
       "    </tr>\n",
       "    <tr>\n",
       "      <th>2003</th>\n",
       "      <td>26</td>\n",
       "      <td>22</td>\n",
       "    </tr>\n",
       "    <tr>\n",
       "      <th>2004</th>\n",
       "      <td>30</td>\n",
       "      <td>26</td>\n",
       "    </tr>\n",
       "  </tbody>\n",
       "</table>\n",
       "</div>"
      ],
      "text/plain": [
       "      satislar  reklam_giderler\n",
       "2000        22                7\n",
       "2001        21               11\n",
       "2002        23               15\n",
       "2003        26               22\n",
       "2004        30               26"
      ]
     },
     "execution_count": 17,
     "metadata": {},
     "output_type": "execute_result"
    }
   ],
   "source": [
    "yillar= [str(x+2000)for x in range(7)]\n",
    "yillar\n",
    "df.index=yillar\n",
    "df.head()\n"
   ]
  },
  {
   "cell_type": "code",
   "execution_count": 22,
   "id": "a507199a",
   "metadata": {},
   "outputs": [
    {
     "data": {
      "text/plain": [
       "[<matplotlib.lines.Line2D at 0x2126b1aa250>]"
      ]
     },
     "execution_count": 22,
     "metadata": {},
     "output_type": "execute_result"
    },
    {
     "data": {
      "image/png": "[encoded data removed]",
      "text/plain": [
       "<Figure size 432x288 with 1 Axes>"
      ]
     },
     "metadata": {
      "needs_background": "light"
     },
     "output_type": "display_data"
    }
   ],
   "source": [
    "plt.scatter(x=reklam_giderler,y=satislar)\n",
    "plt.xlabel('reklam giderleri')\n",
    "plt.ylabel('satışlar')\n",
    "plt.plot(reklam_giderler,reklam_giderler*1+3,color='red')"
   ]
  },
  {
   "cell_type": "code",
   "execution_count": 24,
   "id": "d91e01f9",
   "metadata": {},
   "outputs": [],
   "source": [
    "LinearRegression?"
   ]
  },
  {
   "cell_type": "code",
   "execution_count": 25,
   "id": "8986f1aa",
   "metadata": {},
   "outputs": [],
   "source": [
    "lineer_model=LinearRegression()"
   ]
  },
  {
   "cell_type": "code",
   "execution_count": 27,
   "id": "f190f07b",
   "metadata": {},
   "outputs": [
    {
     "data": {
      "text/plain": [
       "array([[ 7],\n",
       "       [11],\n",
       "       [15],\n",
       "       [22],\n",
       "       [26],\n",
       "       [28],\n",
       "       [31]])"
      ]
     },
     "execution_count": 27,
     "metadata": {},
     "output_type": "execute_result"
    }
   ],
   "source": [
    "reklam_giderler=reklam_giderler.reshape(-1,1)\n",
    "reklam_giderler"
   ]
  },
  {
   "cell_type": "code",
   "execution_count": 28,
   "id": "c08438ab",
   "metadata": {},
   "outputs": [
    {
     "data": {
      "text/plain": [
       "LinearRegression()"
      ]
     },
     "execution_count": 28,
     "metadata": {},
     "output_type": "execute_result"
    }
   ],
   "source": [
    "lineer_model.fit(X=reklam_giderler,y=satislar)"
   ]
  },
  {
   "cell_type": "code",
   "execution_count": 29,
   "id": "1bce7877",
   "metadata": {},
   "outputs": [
    {
     "data": {
      "text/plain": [
       "array([0.484])"
      ]
     },
     "execution_count": 29,
     "metadata": {},
     "output_type": "execute_result"
    }
   ],
   "source": [
    "lineer_model.coef_"
   ]
  },
  {
   "cell_type": "code",
   "execution_count": 30,
   "id": "03796d6e",
   "metadata": {},
   "outputs": [
    {
     "data": {
      "text/plain": [
       "16.74857142857143"
      ]
     },
     "execution_count": 30,
     "metadata": {},
     "output_type": "execute_result"
    }
   ],
   "source": [
    "lineer_model.intercept_"
   ]
  },
  {
   "cell_type": "code",
   "execution_count": 35,
   "id": "40f58dcb",
   "metadata": {},
   "outputs": [
    {
     "name": "stdout",
     "output_type": "stream",
     "text": [
      "beta_0 = 16.74857142857143, beta_1 = 0.48399999999999993\n"
     ]
    }
   ],
   "source": [
    "print(\"beta_0 = {}, beta_1 = {}\".format(lineer_model.intercept_,lineer_model.coef_[0]))"
   ]
  },
  {
   "cell_type": "code",
   "execution_count": 36,
   "id": "64e31d2d",
   "metadata": {},
   "outputs": [
    {
     "data": {
      "text/plain": [
       "0.9317000000000001"
      ]
     },
     "execution_count": 36,
     "metadata": {},
     "output_type": "execute_result"
    }
   ],
   "source": [
    "lineer_model.score(X=reklam_giderler,y=satislar)"
   ]
  },
  {
   "cell_type": "code",
   "execution_count": 42,
   "id": "092edd47",
   "metadata": {},
   "outputs": [
    {
     "data": {
      "text/plain": [
       "array([20.13657143, 22.07257143, 24.00857143, 27.39657143, 29.33257143,\n",
       "       30.30057143, 31.75257143])"
      ]
     },
     "execution_count": 42,
     "metadata": {},
     "output_type": "execute_result"
    }
   ],
   "source": [
    "tahmin_edilen_satislar=lineer_model.predict(reklam_giderler)\n",
    "tahmin_edilen_satislar"
   ]
  },
  {
   "cell_type": "code",
   "execution_count": 41,
   "id": "fc059caf",
   "metadata": {},
   "outputs": [
    {
     "data": {
      "text/plain": [
       "array([22, 21, 23, 26, 30, 31, 32])"
      ]
     },
     "execution_count": 41,
     "metadata": {},
     "output_type": "execute_result"
    }
   ],
   "source": [
    "satislar"
   ]
  },
  {
   "cell_type": "code",
   "execution_count": 44,
   "id": "5417242f",
   "metadata": {},
   "outputs": [
    {
     "data": {
      "text/plain": [
       "array([ 1.86342857, -1.07257143, -1.00857143, -1.39657143,  0.66742857,\n",
       "        0.69942857,  0.24742857])"
      ]
     },
     "execution_count": 44,
     "metadata": {},
     "output_type": "execute_result"
    }
   ],
   "source": [
    "errors=satislar-tahmin_edilen_satislar\n",
    "errors"
   ]
  },
  {
   "cell_type": "code",
   "execution_count": 45,
   "id": "1e1de203",
   "metadata": {},
   "outputs": [
    {
     "data": {
      "text/plain": [
       "0.0"
      ]
     },
     "execution_count": 45,
     "metadata": {},
     "output_type": "execute_result"
    }
   ],
   "source": [
    "errors.sum()"
   ]
  },
  {
   "cell_type": "code",
   "execution_count": 47,
   "id": "fcb8aea4",
   "metadata": {},
   "outputs": [
    {
     "data": {
      "text/plain": [
       "array([3.47236604, 1.15040947, 1.01721633, 1.95041176, 0.4454609 ,\n",
       "       0.48920033, 0.0612209 ])"
      ]
     },
     "execution_count": 47,
     "metadata": {},
     "output_type": "execute_result"
    }
   ],
   "source": [
    "hataların_karesi=np.square(errors)\n",
    "hataların_karesi"
   ]
  },
  {
   "cell_type": "code",
   "execution_count": null,
   "id": "ba20b167",
   "metadata": {},
   "outputs": [],
   "source": [
    "lineer_model.score()"
   ]
  },
  {
   "cell_type": "code",
   "execution_count": 49,
   "id": "45e0ebbf",
   "metadata": {},
   "outputs": [
    {
     "data": {
      "text/plain": [
       "0.9317000000000001"
      ]
     },
     "execution_count": 49,
     "metadata": {},
     "output_type": "execute_result"
    }
   ],
   "source": [
    "r_2=1-((hataların_karesi).sum()/((satislar-satislar.mean())**2).sum()).sum()\n",
    "r_2"
   ]
  },
  {
   "cell_type": "code",
   "execution_count": 53,
   "id": "46b11647",
   "metadata": {},
   "outputs": [
    {
     "data": {
      "text/plain": [
       "<matplotlib.legend.Legend at 0x2126b367d90>"
      ]
     },
     "execution_count": 53,
     "metadata": {},
     "output_type": "execute_result"
    },
    {
     "data": {
      "image/png": "[encoded data removed]",
      "text/plain": [
       "<Figure size 432x288 with 1 Axes>"
      ]
     },
     "metadata": {
      "needs_background": "light"
     },
     "output_type": "display_data"
    }
   ],
   "source": [
    "plt.plot(reklam_giderler ,tahmin_edilen_satislar,label='tahmin değerler')\n",
    "plt.plot(reklam_giderler ,satislar,label='gerçek değerler')\n",
    "plt.legend()"
   ]
  },
  {
   "cell_type": "code",
   "execution_count": 55,
   "id": "66dcfa60",
   "metadata": {},
   "outputs": [
    {
     "data": {
      "text/plain": [
       "Text(0, 0.5, 'satışlar')"
      ]
     },
     "execution_count": 55,
     "metadata": {},
     "output_type": "execute_result"
    },
    {
     "data": {
      "image/png": "[encoded data removed]",
      "text/plain": [
       "<Figure size 432x288 with 1 Axes>"
      ]
     },
     "metadata": {
      "needs_background": "light"
     },
     "output_type": "display_data"
    }
   ],
   "source": [
    "plt.scatter(x=reklam_giderler,y=satislar)\n",
    "plt.plot(reklam_giderler,reklam_giderler*lineer_model.coef_[0]+lineer_model.intercept_,color='red')\n",
    "plt.xlabel('reklam giderleri')\n",
    "plt.ylabel('satışlar')"
   ]
  },
  {
   "cell_type": "code",
   "execution_count": null,
   "id": "5a81bbe1",
   "metadata": {},
   "outputs": [],
   "source": []
  },
  {
   "cell_type": "code",
   "execution_count": null,
   "id": "798c6a3d",
   "metadata": {},
   "outputs": [],
   "source": []
  },
  {
   "cell_type": "code",
   "execution_count": null,
   "id": "ba531ba3",
   "metadata": {},
   "outputs": [],
   "source": []
  },
  {
   "cell_type": "code",
   "execution_count": null,
   "id": "94a01e77",
   "metadata": {},
   "outputs": [],
   "source": []
  },
  {
   "cell_type": "code",
   "execution_count": null,
   "id": "54092da4",
   "metadata": {},
   "outputs": [],
   "source": []
  },
  {
   "cell_type": "code",
   "execution_count": null,
   "id": "b6e22886",
   "metadata": {},
   "outputs": [],
   "source": []
  }
 ],
 "metadata": {
  "kernelspec": {
   "display_name": "Python 3 (ipykernel)",
   "language": "python",
   "name": "python3"
  },
  "language_info": {
   "codemirror_mode": {
    "name": "ipython",
    "version": 3
   },
   "file_extension": ".py",
   "mimetype": "text/x-python",
   "name": "python",
   "nbconvert_exporter": "python",
   "pygments_lexer": "ipython3",
   "version": "3.9.7"
  }
 },
 "nbformat": 4,
 "nbformat_minor": 5
}
